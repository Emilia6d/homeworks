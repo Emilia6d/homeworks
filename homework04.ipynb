{
  "nbformat": 4,
  "nbformat_minor": 0,
  "metadata": {
    "colab": {
      "name": "Untitled6.ipynb",
      "provenance": [],
      "authorship_tag": "ABX9TyOAhT4noWQMh8r3YVCvMbJS",
      "include_colab_link": true
    },
    "kernelspec": {
      "name": "python3",
      "display_name": "Python 3"
    },
    "language_info": {
      "name": "python"
    }
  },
  "cells": [
    {
      "cell_type": "markdown",
      "metadata": {
        "id": "view-in-github",
        "colab_type": "text"
      },
      "source": [
        "<a href=\"https://colab.research.google.com/github/Emilia6d/homeworks/blob/main/homework04.ipynb\" target=\"_parent\"><img src=\"https://colab.research.google.com/assets/colab-badge.svg\" alt=\"Open In Colab\"/></a>"
      ]
    },
    {
      "cell_type": "markdown",
      "source": [
        "Zadanie 1\n",
        "Napisz funkcję sanitation, która przyjmie listę liczb i usunie z niej elementy ujemne (bez zwracania nowej listy)"
      ],
      "metadata": {
        "id": "_yx0iJvP5O0U"
      }
    },
    {
      "cell_type": "code",
      "source": [
        ""
      ],
      "metadata": {
        "id": "fZKmiuEs5QVJ"
      },
      "execution_count": null,
      "outputs": []
    },
    {
      "cell_type": "markdown",
      "source": [
        "Zadanie 2\n",
        "Napisz program który znajdzie wartości występujące tylko raz"
      ],
      "metadata": {
        "id": "uF7CHetF5SrP"
      }
    },
    {
      "cell_type": "code",
      "source": [
        "lista = [10, 20, 30, 20, 10, 50, 60, 40, 80, 50, 40]"
      ],
      "metadata": {
        "id": "CtGYwMXw5U2P"
      },
      "execution_count": null,
      "outputs": []
    },
    {
      "cell_type": "markdown",
      "source": [
        "Zadanie 3\n",
        "Napisz program, który policzy ile razy elementy występują w liście i wypisze rezultat.\n",
        "\n",
        "Wykonaj zadanie na dwa sposoby:\n",
        "\n",
        "a. z wykorzystaniem meteody wbudowanej list count()\n",
        "\n",
        "b. bez count()\n",
        "\n",
        "Np. dla lista = [10, 20, 30, 20, 10, 50, \"aa\", 40, 80, 50, 40]\n",
        "\n",
        "10 - 2 20 - 2 30 - 1 50 - 2 \"aa\" - 1 40 - 2 80 - 1"
      ],
      "metadata": {
        "id": "VYIiMmCG5i24"
      }
    },
    {
      "cell_type": "code",
      "source": [
        ""
      ],
      "metadata": {
        "id": "YtpUcqIN5lHr"
      },
      "execution_count": null,
      "outputs": []
    },
    {
      "cell_type": "markdown",
      "source": [
        "Zadanie 4\n",
        "Otrzymaliśmy dane w następującej postaci: \"{dzień tygodnia};{cztery znaki zawierające wskazanie czujnika}\" (zawsze są to 4 znaki!). Napisz skrypt, który wygeneruje raport z konkretnego dnia na prośbę użytkownika:\n",
        "\n",
        "Poproś o podanie dnia dla którego ma zostać wyliczony raport (wielkość liter nie powinna mieć znaczenia) (25%)\n",
        "Pobierz odpowiednią wartość z danych (20%)\n",
        "Przelicz wskazanie czujnika na temperaturę dzieląc przez wartość z tabeli (20%)\n",
        "Wypisz temperaturę z dokładnością do trzeciego miejsca po przecinku (tak jak na przykładzie) i ze znakiem specjalnym ℃ (\\u2103) (20%)\n",
        "Do punktu 1 dodaj walidację - upewnij się, że użytkownik podał jeden z dni który możemy znaleźć w danych (15%)\n",
        "BONUS: Do punktu 4 dodaj wizualizację temperatury w zakresie 0 do 100 stopni na pasku złożonym z 20 znaków (np. dla 50 stopni, zapełnione jest 10/20 znaków) (niespodzianka)\n",
        "Tabela przeliczania\n",
        "Wskazanie czujnika - przelicznik:\n",
        "\n",
        "Większe niż, lub równe 1400 - 22.5\n",
        "Pomiędzy 1400, a 1200 - 23.1\n",
        "Mniejsze niż, lub równe 1200 - 23.5"
      ],
      "metadata": {
        "id": "YtpP5dvo5lwE"
      }
    },
    {
      "cell_type": "code",
      "source": [
        "data = \"\"\"\n",
        "monday;1250\n",
        "tuesday;1405\n",
        "wednesday;1750\n",
        "thursday;1100\n",
        "friday;0800\n",
        "saturday;1225\n",
        "sunday;1355\n",
        "\"\"\""
      ],
      "metadata": {
        "id": "7Wgcu1GJ5qso"
      },
      "execution_count": null,
      "outputs": []
    },
    {
      "cell_type": "markdown",
      "source": [
        "Przykładowe wyjście\n",
        "\n",
        "Dane dla \"thursday\"\n",
        "Wskazanie czujnika: 1100\n",
        "Temperatura: 46.809℃\n",
        "0℃ |#########-----------| 100℃  # BONUS"
      ],
      "metadata": {
        "id": "zEULHi8i5tOH"
      }
    },
    {
      "cell_type": "code",
      "source": [
        ""
      ],
      "metadata": {
        "id": "vo6BwOpZ5ucw"
      },
      "execution_count": null,
      "outputs": []
    }
  ]
}