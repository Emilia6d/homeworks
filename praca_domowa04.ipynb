{
  "nbformat": 4,
  "nbformat_minor": 0,
  "metadata": {
    "colab": {
      "name": "Untitled6.ipynb",
      "provenance": [],
      "collapsed_sections": [],
      "authorship_tag": "ABX9TyMId7sCgfVqNhhu7F943nve",
      "include_colab_link": true
    },
    "kernelspec": {
      "name": "python3",
      "display_name": "Python 3"
    },
    "language_info": {
      "name": "python"
    }
  },
  "cells": [
    {
      "cell_type": "markdown",
      "metadata": {
        "id": "view-in-github",
        "colab_type": "text"
      },
      "source": [
        "<a href=\"https://colab.research.google.com/github/Emilia6d/homeworks/blob/main/praca_domowa04.ipynb\" target=\"_parent\"><img src=\"https://colab.research.google.com/assets/colab-badge.svg\" alt=\"Open In Colab\"/></a>"
      ]
    },
    {
      "cell_type": "markdown",
      "source": [
        "Zadanie 1\n",
        "Napisz funkcję sanitation, która przyjmie listę liczb i usunie z niej elementy ujemne (bez zwracania nowej listy)"
      ],
      "metadata": {
        "id": "_yx0iJvP5O0U"
      }
    },
    {
      "cell_type": "code",
      "source": [
        "lista = [-10, -9, -8, -7, -6, -5, -4, -3, -2, -1, 0, 1, 2, 3, 4, 5, 6, 7, 8, 9, 10]\n",
        "\n",
        "for i in lista[:]: \n",
        "    if i<0:\n",
        "        lista.remove(i)\n",
        "print(lista)"
      ],
      "metadata": {
        "id": "fZKmiuEs5QVJ",
        "colab": {
          "base_uri": "https://localhost:8080/"
        },
        "outputId": "c4981445-aafd-47bd-ba35-251d2bd8c0dd"
      },
      "execution_count": 2,
      "outputs": [
        {
          "output_type": "stream",
          "name": "stdout",
          "text": [
            "[0, 1, 2, 3, 4, 5, 6, 7, 8, 9, 10]\n"
          ]
        }
      ]
    },
    {
      "cell_type": "markdown",
      "source": [
        "Zadanie 2\n",
        "Napisz program który znajdzie wartości występujące tylko raz"
      ],
      "metadata": {
        "id": "uF7CHetF5SrP"
      }
    },
    {
      "cell_type": "code",
      "source": [
        "lista = [10, 20, 30, 20, 10, 50, 60, 40, 80, 50, 40]\n",
        "bez_duplikatow = []\n",
        "for elem in lista:\n",
        "  if elem not in bez_duplikatow:\n",
        "    bez_duplikatow.append(elem)\n",
        "print(bez_duplikatow)"
      ],
      "metadata": {
        "colab": {
          "base_uri": "https://localhost:8080/"
        },
        "id": "CtGYwMXw5U2P",
        "outputId": "178b6d0f-b63c-4249-ca07-089790a3debc"
      },
      "execution_count": null,
      "outputs": [
        {
          "output_type": "stream",
          "name": "stdout",
          "text": [
            "[10, 20, 30, 50, 60, 40, 80]\n"
          ]
        }
      ]
    },
    {
      "cell_type": "code",
      "source": [
        "set(lista)"
      ],
      "metadata": {
        "id": "ip26VCjoSfJj",
        "outputId": "c2f7794c-6c86-4f6b-8104-aefd7350327f",
        "colab": {
          "base_uri": "https://localhost:8080/"
        }
      },
      "execution_count": null,
      "outputs": [
        {
          "output_type": "execute_result",
          "data": {
            "text/plain": [
              "{10, 20, 30, 40, 50, 60, 80}"
            ]
          },
          "metadata": {},
          "execution_count": 2
        }
      ]
    },
    {
      "cell_type": "markdown",
      "source": [
        "Zadanie 3\n",
        "Napisz program, który policzy ile razy elementy występują w liście i wypisze rezultat.\n",
        "\n",
        "Wykonaj zadanie na dwa sposoby:\n",
        "\n",
        "a. z wykorzystaniem meteody wbudowanej list count()\n",
        "\n",
        "b. bez count()\n",
        "\n",
        "Np. dla lista = [10, 20, 30, 20, 10, 50, \"aa\", 40, 80, 50, 40]\n",
        "\n",
        "10 - 2 20 - 2 30 - 1 50 - 2 \"aa\" - 1 40 - 2 80 - 1"
      ],
      "metadata": {
        "id": "VYIiMmCG5i24"
      }
    },
    {
      "cell_type": "code",
      "source": [
        "#a \n",
        "dict((x,lista.count(x)) for x in set(lista))"
      ],
      "metadata": {
        "id": "YtpUcqIN5lHr",
        "colab": {
          "base_uri": "https://localhost:8080/"
        },
        "outputId": "b1ea8d71-b5e3-417d-c936-adc5db0de99a"
      },
      "execution_count": 7,
      "outputs": [
        {
          "output_type": "execute_result",
          "data": {
            "text/plain": [
              "{10: 2, 20: 2, 30: 1, 40: 2, 50: 2, 80: 1, 'aa': 1}"
            ]
          },
          "metadata": {},
          "execution_count": 7
        }
      ]
    },
    {
      "cell_type": "code",
      "source": [
        "#b \n",
        "lista = [10, 20, 30, 20, 10, 50, \"aa\", 40, 80, 50, 40]\n",
        "d={} \n",
        "for i in lista:\n",
        "    if i not in d:\n",
        "        d[i]=1\n",
        "    else:\n",
        "        d[i]+=1\n",
        "print(d)"
      ],
      "metadata": {
        "colab": {
          "base_uri": "https://localhost:8080/"
        },
        "id": "5R4P9QTnsu3V",
        "outputId": "80c5e637-9aa7-41ec-a0fc-7df15d0bc992"
      },
      "execution_count": 6,
      "outputs": [
        {
          "output_type": "stream",
          "name": "stdout",
          "text": [
            "{10: 2, 20: 2, 30: 1, 50: 2, 'aa': 1, 40: 2, 80: 1}\n"
          ]
        }
      ]
    },
    {
      "cell_type": "markdown",
      "source": [
        "Zadanie 4\n",
        "Otrzymaliśmy dane w następującej postaci: \"{dzień tygodnia};{cztery znaki zawierające wskazanie czujnika}\" (zawsze są to 4 znaki!). Napisz skrypt, który wygeneruje raport z konkretnego dnia na prośbę użytkownika:\n",
        "\n",
        "Poproś o podanie dnia dla którego ma zostać wyliczony raport (wielkość liter nie powinna mieć znaczenia) (25%)\n",
        "Pobierz odpowiednią wartość z danych (20%)\n",
        "Przelicz wskazanie czujnika na temperaturę dzieląc przez wartość z tabeli (20%)\n",
        "Wypisz temperaturę z dokładnością do trzeciego miejsca po przecinku (tak jak na przykładzie) i ze znakiem specjalnym ℃ (\\u2103) (20%)\n",
        "Do punktu 1 dodaj walidację - upewnij się, że użytkownik podał jeden z dni który możemy znaleźć w danych (15%)\n",
        "BONUS: Do punktu 4 dodaj wizualizację temperatury w zakresie 0 do 100 stopni na pasku złożonym z 20 znaków (np. dla 50 stopni, zapełnione jest 10/20 znaków) (niespodzianka)\n",
        "Tabela przeliczania\n",
        "Wskazanie czujnika - przelicznik:\n",
        "\n",
        "Większe niż, lub równe 1400 - 22.5\n",
        "Pomiędzy 1400, a 1200 - 23.1\n",
        "Mniejsze niż, lub równe 1200 - 23.5"
      ],
      "metadata": {
        "id": "YtpP5dvo5lwE"
      }
    },
    {
      "cell_type": "code",
      "source": [
        "data = \"\"\"\n",
        "monday;1250\n",
        "tuesday;1405\n",
        "wednesday;1750\n",
        "thursday;1100\n",
        "friday;0800\n",
        "saturday;1225\n",
        "sunday;1355\n",
        "\"\"\""
      ],
      "metadata": {
        "id": "7Wgcu1GJ5qso"
      },
      "execution_count": 9,
      "outputs": []
    },
    {
      "cell_type": "markdown",
      "source": [
        "Przykładowe wyjście\n",
        "\n",
        "Dane dla \"thursday\"\n",
        "Wskazanie czujnika: 1100\n",
        "Temperatura: 46.809℃\n",
        "0℃ |#########-----------| 100℃  # BONUS"
      ],
      "metadata": {
        "id": "zEULHi8i5tOH"
      }
    },
    {
      "cell_type": "code",
      "source": [
        "data = data.strip()\n",
        "data = {day: number for day, number in [line.split(';') for line in data.split('\\n')]}\n",
        "\n",
        "day=input(\"Podaj dzień raportu: \").lower()\n",
        "day_nr = int(data.get(day, 0))\n",
        "if day in data:\n",
        "    if day_nr >= 1400:\n",
        "        wynik=(day_nr/22.5)\n",
        "    elif 1200 <day_nr < 1400:\n",
        "        wynik=(day_nr/23.1)\n",
        "    else:\n",
        "        wynik=(day_nr/23.5)\n",
        "    zaokr=round(wynik,3)\n",
        "    zaokr_2=20-round(wynik,3)//5\n",
        "\n",
        "    # rys=\"-\"*int(round(zaokr))//5\n",
        "    # #rys2=\"=\"*int(10-rys)\n",
        "    # print(rys)\n",
        "\n",
        "    print(\"Dane dla:\",day.capitalize())\n",
        "    print(\"Wskazanie czujnika: {:04d}\".format(day_nr))\n",
        "    print(\"Temperatura: {}\\u2103\".format(zaokr))\n",
        "    print((\"0\\u2103|\"+(\"#\")*int(zaokr//5))+(\"-\")*int(zaokr_2)+\"|100\\u2103\")\n",
        "else:\n",
        "    print(\"Brak danych!\")"
      ],
      "metadata": {
        "id": "vo6BwOpZ5ucw",
        "colab": {
          "base_uri": "https://localhost:8080/"
        },
        "outputId": "a1d1c47f-7a0b-441a-dd76-f2f7985b7a6d"
      },
      "execution_count": 10,
      "outputs": [
        {
          "output_type": "stream",
          "name": "stdout",
          "text": [
            "Podaj dzień raportu: thursday\n",
            "Dane dla: Thursday\n",
            "Wskazanie czujnika: 1100\n",
            "Temperatura: 46.809℃\n",
            "0℃|#########-----------|100℃\n"
          ]
        }
      ]
    }
  ]
}